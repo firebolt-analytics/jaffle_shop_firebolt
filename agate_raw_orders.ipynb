{
 "cells": [
  {
   "cell_type": "markdown",
   "id": "b98be17f-7957-43c2-a2cb-b8e8343ab096",
   "metadata": {},
   "source": [
    "# Agate Agony: Converting Date Columns to Text after ingestion\n",
    "\n",
    "as a pandas stan, agate is somewhat inscrutable to me. I need to cast Date columns to Text because... reasons.\n",
    "\n",
    "The challenge is that it has to happen *after* the csv is loaded into memory as an Agate table"
   ]
  },
  {
   "cell_type": "code",
   "execution_count": 91,
   "id": "bdb28847-3373-4aeb-807d-9f971b46d4f9",
   "metadata": {},
   "outputs": [],
   "source": [
    "import agate\n",
    "import os\n",
    "from loguru import logger"
   ]
  },
  {
   "cell_type": "code",
   "execution_count": 82,
   "id": "f7f1c7fc-7624-47a0-ba60-54ec69067d67",
   "metadata": {},
   "outputs": [],
   "source": [
    "os.chdir('/Users/anders.swanson/repos/jaffle_shop/')\n",
    "fname='data/raw_orders.csv'"
   ]
  },
  {
   "cell_type": "markdown",
   "id": "8e2b51c0-a4b0-47c6-a87a-6ea2ee89386f",
   "metadata": {},
   "source": [
    "## the data\n",
    "below you can see there are two date columns: `order` and `date` that are unquoted strings"
   ]
  },
  {
   "cell_type": "code",
   "execution_count": 83,
   "id": "375e4763-930d-4f6a-a602-a10723d39e90",
   "metadata": {},
   "outputs": [
    {
     "name": "stdout",
     "output_type": "stream",
     "text": [
      "id,user_id,order_date,status\n",
      "1,1,2018-01-01,returned\n",
      "2,3,2018-01-02,completed\n",
      "3,94,2018-01-04,completed\n",
      "4,50,2018-01-05,completed\n",
      "5,64,2018-01-05,completed\n",
      "6,54,2018-01-07,completed\n",
      "7,88,2018-01-09,completed\n",
      "8,2,2018-01-11,returned\n",
      "9,53,2018-01-12,completed\n",
      "10,7,2018-01-14,completed\n",
      "11,99,2018-01-14,completed\n",
      "12,59,2018-01-15,completed\n",
      "13,84,2018-01-17,completed\n",
      "14,40,2018-01-17,returned\n",
      "15,25,2018-01-17,completed\n",
      "16,39,2018-01-18,completed\n",
      "17,71,2018-01-18,completed\n",
      "18,64,2018-01-20,returned\n",
      "19,54,2018-01-22,completed\n",
      "20,20,2018-01-23,completed\n",
      "21,71,2018-01-23,completed\n",
      "22,86,2018-01-24,completed\n",
      "23,22,2018-01-26,return_pending\n",
      "24,3,2018-01-27,completed\n",
      "25,51,2018-01-28,completed\n",
      "26,32,2018-01-28,completed\n",
      "27,94,2018-01-29,completed\n",
      "28,8,2018-01-29,completed\n",
      "29,57,2018-01-31,completed\n",
      "30,69,2018-02-02,completed\n",
      "31,16,2018-02-02,completed\n",
      "32,28,2018-02-04,completed\n",
      "33,42,2018-02-04,completed\n",
      "34,38,2018-02-06,completed\n",
      "35,80,2018-02-08,completed\n",
      "36,85,2018-02-10,completed\n",
      "37,1,2018-02-10,completed\n",
      "38,51,2018-02-10,completed\n",
      "39,26,2018-02-11,completed\n",
      "40,33,2018-02-13,completed\n",
      "41,99,2018-02-14,completed\n",
      "42,92,2018-02-16,completed\n",
      "43,31,2018-02-17,completed\n",
      "44,66,2018-02-17,completed\n",
      "45,22,2018-02-17,completed\n",
      "46,6,2018-02-19,completed\n",
      "47,50,2018-02-20,completed\n",
      "48,27,2018-02-21,completed\n",
      "49,35,2018-02-21,completed\n",
      "50,51,2018-02-23,completed\n",
      "51,71,2018-02-24,completed\n",
      "52,54,2018-02-25,return_pending\n",
      "53,34,2018-02-26,completed\n",
      "54,54,2018-02-26,completed\n",
      "55,18,2018-02-27,completed\n",
      "56,79,2018-02-28,completed\n",
      "57,93,2018-03-01,completed\n",
      "58,22,2018-03-01,completed\n",
      "59,30,2018-03-02,completed\n",
      "60,12,2018-03-03,completed\n",
      "61,63,2018-03-03,completed\n",
      "62,57,2018-03-05,completed\n",
      "63,70,2018-03-06,completed\n",
      "64,13,2018-03-07,completed\n",
      "65,26,2018-03-08,completed\n",
      "66,36,2018-03-10,completed\n",
      "67,79,2018-03-11,completed\n",
      "68,53,2018-03-11,completed\n",
      "69,3,2018-03-11,completed\n",
      "70,8,2018-03-12,completed\n",
      "71,42,2018-03-12,shipped\n",
      "72,30,2018-03-14,shipped\n",
      "73,19,2018-03-16,completed\n",
      "74,9,2018-03-17,shipped\n",
      "75,69,2018-03-18,completed\n",
      "76,25,2018-03-20,completed\n",
      "77,35,2018-03-21,shipped\n",
      "78,90,2018-03-23,shipped\n",
      "79,52,2018-03-23,shipped\n",
      "80,11,2018-03-23,shipped\n",
      "81,76,2018-03-23,shipped\n",
      "82,46,2018-03-24,shipped\n",
      "83,54,2018-03-24,shipped\n",
      "84,70,2018-03-26,placed\n",
      "85,47,2018-03-26,shipped\n",
      "86,68,2018-03-26,placed\n",
      "87,46,2018-03-27,placed\n",
      "88,91,2018-03-27,shipped\n",
      "89,21,2018-03-28,placed\n",
      "90,66,2018-03-30,shipped\n",
      "91,47,2018-03-31,placed\n",
      "92,84,2018-04-02,placed\n",
      "93,66,2018-04-03,placed\n",
      "94,63,2018-04-03,placed\n",
      "95,27,2018-04-04,placed\n",
      "96,90,2018-04-06,placed\n",
      "97,89,2018-04-07,placed\n",
      "98,41,2018-04-07,placed\n",
      "99,85,2018-04-09,placed\n"
     ]
    }
   ],
   "source": [
    "! cat data/raw_orders.csv"
   ]
  },
  {
   "cell_type": "markdown",
   "id": "0dd22e4f-95d4-4f0d-ac4c-de8746bf3860",
   "metadata": {},
   "source": [
    "## wishful thinking\n",
    "\n",
    "If I had control of how the agate table was loaded into memory, the job is easy"
   ]
  },
  {
   "cell_type": "code",
   "execution_count": 106,
   "id": "393cda16-6aa8-4ef5-8fe8-89952bbb76ed",
   "metadata": {},
   "outputs": [
    {
     "name": "stdout",
     "output_type": "stream",
     "text": [
      "| column     | data_type |\n",
      "| ---------- | --------- |\n",
      "| id         | Number    |\n",
      "| user_id    | Number    |\n",
      "| order_date | Text      |\n",
      "| status     | Text      |\n",
      "| id | user_id | order_date | status    |\n",
      "| -- | ------- | ---------- | --------- |\n",
      "|  1 |       1 | 2018-01-01 | returned  |\n",
      "|  2 |       3 | 2018-01-02 | completed |\n",
      "|  3 |      94 | 2018-01-04 | completed |\n",
      "|  4 |      50 | 2018-01-05 | completed |\n",
      "|  5 |      64 | 2018-01-05 | completed |\n",
      "|  6 |      54 | 2018-01-07 | completed |\n",
      "|  7 |      88 | 2018-01-09 | completed |\n",
      "|  8 |       2 | 2018-01-11 | returned  |\n",
      "|  9 |      53 | 2018-01-12 | completed |\n",
      "| 10 |       7 | 2018-01-14 | completed |\n",
      "| 11 |      99 | 2018-01-14 | completed |\n",
      "| 12 |      59 | 2018-01-15 | completed |\n",
      "| 13 |      84 | 2018-01-17 | completed |\n",
      "| 14 |      40 | 2018-01-17 | returned  |\n",
      "| 15 |      25 | 2018-01-17 | completed |\n",
      "| 16 |      39 | 2018-01-18 | completed |\n",
      "| 17 |      71 | 2018-01-18 | completed |\n",
      "| 18 |      64 | 2018-01-20 | returned  |\n",
      "| 19 |      54 | 2018-01-22 | completed |\n",
      "| 20 |      20 | 2018-01-23 | completed |\n",
      "| ... |     ... | ...        | ...       |\n"
     ]
    },
    {
     "data": {
      "text/plain": [
       "(None, None)"
      ]
     },
     "execution_count": 106,
     "metadata": {},
     "output_type": "execute_result"
    }
   ],
   "source": [
    "tester = agate.TypeTester(types=[agate.Text()])\n",
    "# orders_txt = agate.Table.from_csv(fname, column_types=tester)\n",
    "orders_txt = agate.Table.from_csv(fname, column_types={'order_date': agate.Text()})\n",
    "\n",
    "orders_txt.print_structure(),orders_txt.print_table()"
   ]
  },
  {
   "cell_type": "markdown",
   "id": "993a56f0-9f00-4f68-a61f-a36b3d2df582",
   "metadata": {},
   "source": [
    "## the given object\n",
    "\n",
    "instead we are forced to work with the the auto-inferred column types which are correct, but whatever"
   ]
  },
  {
   "cell_type": "code",
   "execution_count": 85,
   "id": "6e7303b8-0b52-4bd4-82e6-13ad023f9c8f",
   "metadata": {},
   "outputs": [
    {
     "name": "stdout",
     "output_type": "stream",
     "text": [
      "| column     | data_type |\n",
      "| ---------- | --------- |\n",
      "| id         | Number    |\n",
      "| user_id    | Number    |\n",
      "| order_date | Date      |\n",
      "| status     | Text      |\n",
      "| id | user_id | order_date | status    |\n",
      "| -- | ------- | ---------- | --------- |\n",
      "|  1 |       1 | 2018-01-01 | returned  |\n",
      "|  2 |       3 | 2018-01-02 | completed |\n",
      "|  3 |      94 | 2018-01-04 | completed |\n",
      "|  4 |      50 | 2018-01-05 | completed |\n",
      "|  5 |      64 | 2018-01-05 | completed |\n",
      "|  6 |      54 | 2018-01-07 | completed |\n",
      "|  7 |      88 | 2018-01-09 | completed |\n",
      "|  8 |       2 | 2018-01-11 | returned  |\n",
      "|  9 |      53 | 2018-01-12 | completed |\n",
      "| 10 |       7 | 2018-01-14 | completed |\n",
      "| 11 |      99 | 2018-01-14 | completed |\n",
      "| 12 |      59 | 2018-01-15 | completed |\n",
      "| 13 |      84 | 2018-01-17 | completed |\n",
      "| 14 |      40 | 2018-01-17 | returned  |\n",
      "| 15 |      25 | 2018-01-17 | completed |\n",
      "| 16 |      39 | 2018-01-18 | completed |\n",
      "| 17 |      71 | 2018-01-18 | completed |\n",
      "| 18 |      64 | 2018-01-20 | returned  |\n",
      "| 19 |      54 | 2018-01-22 | completed |\n",
      "| 20 |      20 | 2018-01-23 | completed |\n",
      "| ... |     ... |        ... | ...       |\n"
     ]
    },
    {
     "data": {
      "text/plain": [
       "(None, None)"
      ]
     },
     "execution_count": 85,
     "metadata": {},
     "output_type": "execute_result"
    }
   ],
   "source": [
    "orders = agate.Table.from_csv(fname)\n",
    "\n",
    "orders.print_structure(),orders.print_table()"
   ]
  },
  {
   "cell_type": "markdown",
   "id": "96f33115-8a3a-449e-82b6-29831e674089",
   "metadata": {},
   "source": [
    "## solution\n",
    "the solution is to create the following\n",
    "- a function to generate:\n",
    "    - a column-specifc `agate.Formula`: i.e. `agate`-flavored lambda function that in this case does nothing except ensure it's output will be cast to `agate.TypeText`\n",
    "- a list comprehension the return a list of tuples of length two for each Date column consisting of:\n",
    "    - the column name, and\n",
    "    - the column's special `agate.Formula`\n",
    "- a `.compute()` call to the table that applies the `Formulas` to each column, overwriting the original columns with text versions"
   ]
  },
  {
   "cell_type": "code",
   "execution_count": 104,
   "id": "39d476ec-8a8c-45de-bf38-ca17939f5011",
   "metadata": {},
   "outputs": [
    {
     "name": "stdout",
     "output_type": "stream",
     "text": [
      "| column     | data_type |\n",
      "| ---------- | --------- |\n",
      "| id         | Number    |\n",
      "| user_id    | Number    |\n",
      "| order_date | Text      |\n",
      "| status     | Text      |\n",
      "| id | user_id | order_date | status    |\n",
      "| -- | ------- | ---------- | --------- |\n",
      "|  1 |       1 | 2018-01-01 | returned  |\n",
      "|  2 |       3 | 2018-01-02 | completed |\n",
      "|  3 |      94 | 2018-01-04 | completed |\n",
      "|  4 |      50 | 2018-01-05 | completed |\n",
      "|  5 |      64 | 2018-01-05 | completed |\n",
      "|  6 |      54 | 2018-01-07 | completed |\n",
      "|  7 |      88 | 2018-01-09 | completed |\n",
      "|  8 |       2 | 2018-01-11 | returned  |\n",
      "|  9 |      53 | 2018-01-12 | completed |\n",
      "| 10 |       7 | 2018-01-14 | completed |\n",
      "| 11 |      99 | 2018-01-14 | completed |\n",
      "| 12 |      59 | 2018-01-15 | completed |\n",
      "| 13 |      84 | 2018-01-17 | completed |\n",
      "| 14 |      40 | 2018-01-17 | returned  |\n",
      "| 15 |      25 | 2018-01-17 | completed |\n",
      "| 16 |      39 | 2018-01-18 | completed |\n",
      "| 17 |      71 | 2018-01-18 | completed |\n",
      "| 18 |      64 | 2018-01-20 | returned  |\n",
      "| 19 |      54 | 2018-01-22 | completed |\n",
      "| 20 |      20 | 2018-01-23 | completed |\n",
      "| ... |     ... | ...        | ...       |\n"
     ]
    },
    {
     "data": {
      "text/plain": [
       "(None, None)"
      ]
     },
     "execution_count": 104,
     "metadata": {},
     "output_type": "execute_result"
    }
   ],
   "source": [
    "\n",
    "\n",
    "def convert_agate_date_cols_to_text_cols3(agate_table) -> agate.Table:\n",
    "    def cast_col_to_text(col_name):\n",
    "            return agate.Formula(agate.Text(), lambda r: r[col_name])\n",
    "    \n",
    "    computations = [(\n",
    "        col.name,\n",
    "        cast_col_to_text(col.name)\n",
    "        ) for col in agate_table.columns if 'Date' in str(col.data_type)]\n",
    "\n",
    "    return agate_table.compute(computations,replace=True)\n",
    "\n",
    "orders_new = convert_agate_date_cols_to_text_cols3(orders)\n",
    "orders_new.print_structure(),orders_new.print_table()"
   ]
  },
  {
   "cell_type": "code",
   "execution_count": 101,
   "id": "e2904589-a2b1-4f6e-8549-baaedfae8d2c",
   "metadata": {},
   "outputs": [
    {
     "name": "stderr",
     "output_type": "stream",
     "text": [
      "2021-08-06 17:25:54.367 | INFO     | __main__:convert_agate_date_cols_to_text_cols2:5 - col to transform: order_date\n",
      "2021-08-06 17:25:54.369 | INFO     | __main__:convert_agate_date_cols_to_text_cols2:5 - col to transform: status\n",
      "2021-08-06 17:25:54.370 | INFO     | __main__:convert_agate_date_cols_to_text_cols2:15 - added tup: ('order_date', <agate.computations.formula.Formula object at 0x7fb6ec4e4e20>)\n",
      "2021-08-06 17:25:54.371 | INFO     | __main__:convert_agate_date_cols_to_text_cols2:15 - added tup: ('status', <agate.computations.formula.Formula object at 0x7fb6ec208400>)\n",
      "2021-08-06 17:25:54.372 | INFO     | __main__:convert_agate_date_cols_to_text_cols2:18 - len of comps: 2\n",
      "2021-08-06 17:25:54.374 | INFO     | __main__:convert_agate_date_cols_to_text_cols2:22 - new table struct: None\n",
      "2021-08-06 17:25:54.377 | INFO     | __main__:convert_agate_date_cols_to_text_cols2:23 - new table head  : None\n"
     ]
    },
    {
     "name": "stdout",
     "output_type": "stream",
     "text": [
      "| column     | data_type |\n",
      "| ---------- | --------- |\n",
      "| id         | Number    |\n",
      "| user_id    | Number    |\n",
      "| order_date | Text      |\n",
      "| status     | Text      |\n",
      "| id | user_id | order_date | status    |\n",
      "| -- | ------- | ---------- | --------- |\n",
      "|  1 |       1 | returned   | returned  |\n",
      "|  2 |       3 | completed  | completed |\n",
      "|  3 |      94 | completed  | completed |\n",
      "|  4 |      50 | completed  | completed |\n",
      "|  5 |      64 | completed  | completed |\n",
      "|  6 |      54 | completed  | completed |\n",
      "|  7 |      88 | completed  | completed |\n",
      "|  8 |       2 | returned   | returned  |\n",
      "|  9 |      53 | completed  | completed |\n",
      "| 10 |       7 | completed  | completed |\n",
      "| column     | data_type |\n",
      "| ---------- | --------- |\n",
      "| id         | Number    |\n",
      "| user_id    | Number    |\n",
      "| order_date | Text      |\n",
      "| status     | Text      |\n",
      "| id | user_id | order_date | status    |\n",
      "| -- | ------- | ---------- | --------- |\n",
      "|  1 |       1 | returned   | returned  |\n",
      "|  2 |       3 | completed  | completed |\n",
      "|  3 |      94 | completed  | completed |\n",
      "|  4 |      50 | completed  | completed |\n",
      "|  5 |      64 | completed  | completed |\n",
      "|  6 |      54 | completed  | completed |\n",
      "|  7 |      88 | completed  | completed |\n",
      "|  8 |       2 | returned   | returned  |\n",
      "|  9 |      53 | completed  | completed |\n",
      "| 10 |       7 | completed  | completed |\n",
      "| 11 |      99 | completed  | completed |\n",
      "| 12 |      59 | completed  | completed |\n",
      "| 13 |      84 | completed  | completed |\n",
      "| 14 |      40 | returned   | returned  |\n",
      "| 15 |      25 | completed  | completed |\n",
      "| 16 |      39 | completed  | completed |\n",
      "| 17 |      71 | completed  | completed |\n",
      "| 18 |      64 | returned   | returned  |\n",
      "| 19 |      54 | completed  | completed |\n",
      "| 20 |      20 | completed  | completed |\n",
      "| ... |     ... | ...        | ...       |\n"
     ]
    },
    {
     "data": {
      "text/plain": [
       "(None, None)"
      ]
     },
     "execution_count": 101,
     "metadata": {},
     "output_type": "execute_result"
    }
   ],
   "source": [
    "def convert_agate_date_cols_to_text_cols2(agate_table) -> agate.Table:\n",
    "        col_list = []\n",
    "        for col in agate_table.columns:\n",
    "            if 'Date' in str(col.data_type) or 'Text' in str(col.data_type):\n",
    "                logger.info(f\"col to transform: {col.name}\")\n",
    "                col_list.append(col.name)\n",
    "\n",
    "        def cast_col_to_text(col_name):\n",
    "            return agate.Formula(agate.Text(), lambda r: r[col_name])\n",
    "\n",
    "        computations = []\n",
    "        for col_name in col_list:\n",
    "            tmp = (\n",
    "                col_name,\n",
    "                agate.Formula(agate.Text(), lambda r: r[col.name])\n",
    "                )\n",
    "            \n",
    "            logger.info(f\"added tup: {tmp}\")\n",
    "            \n",
    "            computations.append(tmp)\n",
    "        logger.info(f\"len of comps: {len(computations)}\")\n",
    "\n",
    "        new_table = agate_table.compute(computations,replace=True)\n",
    "\n",
    "        logger.info(f\"new table struct: {new_table.print_structure()}\")\n",
    "        logger.info(f\"new table head  : {new_table.limit(10).print_table()}\")\n",
    "        \n",
    "        return new_table\n",
    "    \n",
    "orders_new = convert_agate_date_cols_to_text_cols2(orders)\n",
    "orders_new.print_structure(),orders_new.print_table()"
   ]
  },
  {
   "cell_type": "code",
   "execution_count": 100,
   "id": "8ff09119-8599-4ef8-b012-d01224291725",
   "metadata": {},
   "outputs": [
    {
     "name": "stderr",
     "output_type": "stream",
     "text": [
      "2021-08-06 17:25:44.115 | INFO     | __main__:convert_agate_date_cols_to_text_cols2:5 - col to transform: order_date\n",
      "2021-08-06 17:25:44.117 | INFO     | __main__:convert_agate_date_cols_to_text_cols2:5 - col to transform: status\n",
      "2021-08-06 17:25:44.118 | INFO     | __main__:convert_agate_date_cols_to_text_cols2:15 - added tup: ('order_date', <agate.computations.formula.Formula object at 0x7fb6ecadc9a0>)\n",
      "2021-08-06 17:25:44.120 | INFO     | __main__:convert_agate_date_cols_to_text_cols2:15 - added tup: ('status', <agate.computations.formula.Formula object at 0x7fb6ecadc430>)\n",
      "2021-08-06 17:25:44.121 | INFO     | __main__:convert_agate_date_cols_to_text_cols2:18 - len of comps: 2\n",
      "2021-08-06 17:25:44.126 | INFO     | __main__:convert_agate_date_cols_to_text_cols2:22 - new table struct: None\n",
      "2021-08-06 17:25:44.131 | INFO     | __main__:convert_agate_date_cols_to_text_cols2:23 - new table head  : None\n"
     ]
    },
    {
     "name": "stdout",
     "output_type": "stream",
     "text": [
      "| column     | data_type |\n",
      "| ---------- | --------- |\n",
      "| id         | Number    |\n",
      "| user_id    | Number    |\n",
      "| order_date | Text      |\n",
      "| status     | Text      |\n",
      "| id | user_id | order_date | status    |\n",
      "| -- | ------- | ---------- | --------- |\n",
      "|  1 |       1 | returned   | returned  |\n",
      "|  2 |       3 | completed  | completed |\n",
      "|  3 |      94 | completed  | completed |\n",
      "|  4 |      50 | completed  | completed |\n",
      "|  5 |      64 | completed  | completed |\n",
      "|  6 |      54 | completed  | completed |\n",
      "|  7 |      88 | completed  | completed |\n",
      "|  8 |       2 | returned   | returned  |\n",
      "|  9 |      53 | completed  | completed |\n",
      "| 10 |       7 | completed  | completed |\n",
      "| column     | data_type |\n",
      "| ---------- | --------- |\n",
      "| id         | Number    |\n",
      "| user_id    | Number    |\n",
      "| order_date | Text      |\n",
      "| status     | Text      |\n",
      "| id | user_id | order_date | status    |\n",
      "| -- | ------- | ---------- | --------- |\n",
      "|  1 |       1 | returned   | returned  |\n",
      "|  2 |       3 | completed  | completed |\n",
      "|  3 |      94 | completed  | completed |\n",
      "|  4 |      50 | completed  | completed |\n",
      "|  5 |      64 | completed  | completed |\n",
      "|  6 |      54 | completed  | completed |\n",
      "|  7 |      88 | completed  | completed |\n",
      "|  8 |       2 | returned   | returned  |\n",
      "|  9 |      53 | completed  | completed |\n",
      "| 10 |       7 | completed  | completed |\n",
      "| 11 |      99 | completed  | completed |\n",
      "| 12 |      59 | completed  | completed |\n",
      "| 13 |      84 | completed  | completed |\n",
      "| 14 |      40 | returned   | returned  |\n",
      "| 15 |      25 | completed  | completed |\n",
      "| 16 |      39 | completed  | completed |\n",
      "| 17 |      71 | completed  | completed |\n",
      "| 18 |      64 | returned   | returned  |\n",
      "| 19 |      54 | completed  | completed |\n",
      "| 20 |      20 | completed  | completed |\n",
      "| ... |     ... | ...        | ...       |\n"
     ]
    },
    {
     "data": {
      "text/plain": [
       "(None, None)"
      ]
     },
     "execution_count": 100,
     "metadata": {},
     "output_type": "execute_result"
    }
   ],
   "source": []
  },
  {
   "cell_type": "code",
   "execution_count": 86,
   "id": "a2d47f01-d296-4c3e-adee-c57c726e8a2a",
   "metadata": {},
   "outputs": [],
   "source": [
    "def convert_agate_date_cols_to_text_cols(agate_table) -> agate.Table:\n",
    "\n",
    "    computations = [(\n",
    "        col.name,\n",
    "        agate.Formula(agate.Text(), lambda r: r[col.name], cast=True)\n",
    "        ) for col in agate_table.columns if 'Date' in str(col.data_type)]\n",
    "\n",
    "    return agate_table.compute(computations,replace=True)"
   ]
  },
  {
   "cell_type": "code",
   "execution_count": 87,
   "id": "74b20fdd-7cd8-4dd9-9c4a-0de62f166af6",
   "metadata": {},
   "outputs": [
    {
     "name": "stdout",
     "output_type": "stream",
     "text": [
      "| column     | data_type |\n",
      "| ---------- | --------- |\n",
      "| id         | Number    |\n",
      "| user_id    | Number    |\n",
      "| order_date | Text      |\n",
      "| status     | Text      |\n",
      "| id | user_id | order_date | status    |\n",
      "| -- | ------- | ---------- | --------- |\n",
      "|  1 |       1 | returned   | returned  |\n",
      "|  2 |       3 | completed  | completed |\n",
      "|  3 |      94 | completed  | completed |\n",
      "|  4 |      50 | completed  | completed |\n",
      "|  5 |      64 | completed  | completed |\n",
      "|  6 |      54 | completed  | completed |\n",
      "|  7 |      88 | completed  | completed |\n",
      "|  8 |       2 | returned   | returned  |\n",
      "|  9 |      53 | completed  | completed |\n",
      "| 10 |       7 | completed  | completed |\n",
      "| 11 |      99 | completed  | completed |\n",
      "| 12 |      59 | completed  | completed |\n",
      "| 13 |      84 | completed  | completed |\n",
      "| 14 |      40 | returned   | returned  |\n",
      "| 15 |      25 | completed  | completed |\n",
      "| 16 |      39 | completed  | completed |\n",
      "| 17 |      71 | completed  | completed |\n",
      "| 18 |      64 | returned   | returned  |\n",
      "| 19 |      54 | completed  | completed |\n",
      "| 20 |      20 | completed  | completed |\n",
      "| ... |     ... | ...        | ...       |\n"
     ]
    },
    {
     "data": {
      "text/plain": [
       "(None, None)"
      ]
     },
     "execution_count": 87,
     "metadata": {},
     "output_type": "execute_result"
    }
   ],
   "source": [
    "orders_new = convert_agate_date_cols_to_text_cols(orders)\n",
    "orders_new.print_structure(),orders_new.print_table()"
   ]
  },
  {
   "cell_type": "code",
   "execution_count": 98,
   "id": "e28d76ce-4b5b-45ca-9d11-7b06871420ce",
   "metadata": {},
   "outputs": [
    {
     "name": "stdout",
     "output_type": "stream",
     "text": [
      "| column     | data_type |\n",
      "| ---------- | --------- |\n",
      "| id         | Number    |\n",
      "| user_id    | Number    |\n",
      "| order_date | Text      |\n",
      "| status     | Text      |\n",
      "| id | user_id | order_date | status    |\n",
      "| -- | ------- | ---------- | --------- |\n",
      "|  1 |       1 | 2018-01-01 | returned  |\n",
      "|  2 |       3 | 2018-01-02 | completed |\n",
      "|  3 |      94 | 2018-01-04 | completed |\n",
      "|  4 |      50 | 2018-01-05 | completed |\n",
      "|  5 |      64 | 2018-01-05 | completed |\n",
      "|  6 |      54 | 2018-01-07 | completed |\n",
      "|  7 |      88 | 2018-01-09 | completed |\n",
      "|  8 |       2 | 2018-01-11 | returned  |\n",
      "|  9 |      53 | 2018-01-12 | completed |\n",
      "| 10 |       7 | 2018-01-14 | completed |\n",
      "| 11 |      99 | 2018-01-14 | completed |\n",
      "| 12 |      59 | 2018-01-15 | completed |\n",
      "| 13 |      84 | 2018-01-17 | completed |\n",
      "| 14 |      40 | 2018-01-17 | returned  |\n",
      "| 15 |      25 | 2018-01-17 | completed |\n",
      "| 16 |      39 | 2018-01-18 | completed |\n",
      "| 17 |      71 | 2018-01-18 | completed |\n",
      "| 18 |      64 | 2018-01-20 | returned  |\n",
      "| 19 |      54 | 2018-01-22 | completed |\n",
      "| 20 |      20 | 2018-01-23 | completed |\n",
      "| ... |     ... | ...        | ...       |\n"
     ]
    },
    {
     "data": {
      "text/plain": [
       "(None, None)"
      ]
     },
     "execution_count": 98,
     "metadata": {},
     "output_type": "execute_result"
    }
   ],
   "source": [
    "def cast_col_to_text(col_name):\n",
    "    return agate.Formula(agate.Text(), lambda r: r[col_name])\n",
    "\n",
    "out = [(col.name, cast_col_to_text(col.name)) for col in orders.columns if 'Date' in str(col.data_type)]\n",
    "orders_hack = orders.compute(out,replace=True)\n",
    "\n",
    "orders_hack.print_structure(),orders_hack.print_table()"
   ]
  },
  {
   "cell_type": "code",
   "execution_count": null,
   "id": "8930368b-fdc2-435c-b085-95dd8adb60ad",
   "metadata": {},
   "outputs": [],
   "source": []
  },
  {
   "cell_type": "code",
   "execution_count": 79,
   "id": "6da6448e-9e38-4115-8f01-a8b995c3ecfa",
   "metadata": {},
   "outputs": [],
   "source": [
    "def convert_agate_date_cols_to_text_cols(agate_table) -> agate.Table:\n",
    "\n",
    "    computations = [(\n",
    "        col.name,\n",
    "        agate.Formula(agate.Text(), lambda r: r[col.name], cast=True)\n",
    "        ) for col in agate_table.columns if 'Date' in str(col.data_type)]\n",
    "\n",
    "    return agate_table.compute(computations,replace=True)"
   ]
  },
  {
   "cell_type": "code",
   "execution_count": null,
   "id": "b86268da-873e-4f1c-8fbb-a1082fae4e3c",
   "metadata": {},
   "outputs": [],
   "source": []
  }
 ],
 "metadata": {
  "kernelspec": {
   "display_name": "Python (dbtdev)",
   "language": "python",
   "name": "ret"
  },
  "language_info": {
   "codemirror_mode": {
    "name": "ipython",
    "version": 3
   },
   "file_extension": ".py",
   "mimetype": "text/x-python",
   "name": "python",
   "nbconvert_exporter": "python",
   "pygments_lexer": "ipython3",
   "version": "3.9.5"
  }
 },
 "nbformat": 4,
 "nbformat_minor": 5
}
